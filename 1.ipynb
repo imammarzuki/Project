{
  "nbformat": 4,
  "nbformat_minor": 0,
  "metadata": {
    "colab": {
      "provenance": [],
      "mount_file_id": "1JFjDuAakGa1g1-YHzoQOkOoexi3ig2Ng",
      "authorship_tag": "ABX9TyPXvzU49jvxRxFbOuos1yV4",
      "include_colab_link": true
    },
    "kernelspec": {
      "name": "python3",
      "display_name": "Python 3"
    },
    "language_info": {
      "name": "python"
    }
  },
  "cells": [
    {
      "cell_type": "markdown",
      "metadata": {
        "id": "view-in-github",
        "colab_type": "text"
      },
      "source": [
        "<a href=\"https://colab.research.google.com/github/imammarzuki/Project/blob/main/1.ipynb\" target=\"_parent\"><img src=\"https://colab.research.google.com/assets/colab-badge.svg\" alt=\"Open In Colab\"/></a>"
      ]
    },
    {
      "cell_type": "markdown",
      "source": [
        "# **Sistem Rekomendasi Destinasi Wisata Kota Bandung Berbasis Collaborative Filtering**"
      ],
      "metadata": {
        "id": "OrvGxSKd8gid"
      }
    },
    {
      "cell_type": "markdown",
      "source": [
        "Link : https://www.kaggle.com/code/malfanirsyadihtg/sistem-rekomendasi-destinasi-wisata-bandung-v2"
      ],
      "metadata": {
        "id": "pyJ48HzL9-Pm"
      }
    },
    {
      "cell_type": "code",
      "execution_count": null,
      "metadata": {
        "colab": {
          "base_uri": "https://localhost:8080/"
        },
        "id": "nC4x9IP78cIg",
        "outputId": "c7b3293b-ae07-4170-e611-5cb8905129fb"
      },
      "outputs": [
        {
          "output_type": "stream",
          "name": "stdout",
          "text": [
            "Drive already mounted at /content/drive; to attempt to forcibly remount, call drive.mount(\"/content/drive\", force_remount=True).\n"
          ]
        }
      ],
      "source": [
        "from google.colab import drive\n",
        "drive.mount('/content/drive')"
      ]
    },
    {
      "cell_type": "code",
      "source": [
        "import pandas as pd"
      ],
      "metadata": {
        "id": "wtq7XVEL-wQA"
      },
      "execution_count": null,
      "outputs": []
    },
    {
      "cell_type": "code",
      "source": [
        "user=pd.read_csv(\"drive/MyDrive/Kaggle/1/user.csv\")\n",
        "tourism_rating=pd.read_csv(\"drive/MyDrive/Kaggle/1/tourism_rating.csv\")\n"
      ],
      "metadata": {
        "id": "sg__yNgK-_6V"
      },
      "execution_count": null,
      "outputs": []
    }
  ]
}